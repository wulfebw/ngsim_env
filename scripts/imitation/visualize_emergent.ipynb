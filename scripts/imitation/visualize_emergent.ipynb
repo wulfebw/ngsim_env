{
 "cells": [
  {
   "cell_type": "code",
   "execution_count": 26,
   "metadata": {
    "collapsed": true
   },
   "outputs": [],
   "source": [
    "%matplotlib inline\n",
    "\n",
    "import collections\n",
    "import matplotlib.pyplot as plt\n",
    "import numpy as np \n",
    "import os\n",
    "from scipy.stats import gaussian_kde\n",
    "\n",
    "import utils"
   ]
  },
  {
   "cell_type": "code",
   "execution_count": 2,
   "metadata": {
    "collapsed": true
   },
   "outputs": [],
   "source": []
  },
  {
   "cell_type": "code",
   "execution_count": 83,
   "metadata": {
    "collapsed": true
   },
   "outputs": [],
   "source": [
    "expert_filepath = '../../data/trajectories/ngsim_1.h5'\n",
    "expert = utils.load_data(\n",
    "    expert_filepath, \n",
    "    min_length=250, \n",
    "    normalize_data=True, \n",
    ")\n",
    "expert_actions = utils.load_data(\n",
    "    expert_filepath, \n",
    "    min_length=250, \n",
    "    normalize_data=False,\n",
    ")\n",
    "expert['actions'] = "
   ]
  },
  {
   "cell_type": "code",
   "execution_count": null,
   "metadata": {
    "collapsed": true
   },
   "outputs": [],
   "source": [
    "dirs = [\n",
    "    '../../data/experiments/gail/imitate/validation/',\n",
    "    '../../data/experiments/infogail/imitate/validation/',\n",
    "    '../../data/experiments/hgail/imitate/validation/',\n",
    "    '../../data/experiments/gail-recurrent/imitate/validation/'\n",
    "]\n",
    "model_labels = [\n",
    "    'gail',\n",
    "    'infogail',\n",
    "    'hgail',\n",
    "    'recurrent gail'\n",
    "]\n",
    "model_trajs = []\n",
    "ngsim_labels = None\n",
    "for d, model_label in zip(dirs, model_labels):\n",
    "    trajs, ngsim_labels = utils.load_trajs_labels(d)\n",
    "    model_trajs.append(trajs)\n",
    "    model_labels.append(ngsim_labels)"
   ]
  },
  {
   "cell_type": "code",
   "execution_count": 84,
   "metadata": {
    "collapsed": true
   },
   "outputs": [],
   "source": [
    "expert_values = dict()\n",
    "expert_values['0750am-0805am'] = dict()\n",
    "expert_bounds = dict()\n",
    "expert_bounds['0750am-0805am'] = dict()\n",
    "expert_values['0750am-0805am']['lon_accel'] = gaussian_kde(expert['actions'][:,0])\n",
    "expert_bounds['0750am-0805am']['lon_accel'] = (np.min(expert['actions'][:,0]), np.max(expert['actions'][:,0]))\n",
    "expert_values['0750am-0805am']['lat_accel'] = gaussian_kde(expert['actions'][:,1])\n",
    "expert_bounds['0750am-0805am']['lat_accel'] = (np.min(expert['actions'][:,1]), np.max(expert['actions'][:,1]))\n",
    "expert_values['0750am-0805am']['velocity'] = gaussian_kde(expert['observations'][:,2])\n",
    "expert_bounds['0750am-0805am']['velocity'] = (np.min(expert['observations'][:,2]), np.max(expert['observations'][:,2]))\n",
    "expert_values['0750am-0805am']['jerk'] = gaussian_kde(expert['observations'][:,9])\n",
    "expert_bounds['0750am-0805am']['jerk'] = (np.min(expert['observations'][:,9]), np.max(expert['observations'][:,9]))\n",
    "expert_values['0750am-0805am']['ttc'] = gaussian_kde(expert['observations'][:,16])\n",
    "expert_bounds['0750am-0805am']['ttc'] = (np.min(expert['observations'][:,16]), np.max(expert['observations'][:,16]))"
   ]
  },
  {
   "cell_type": "code",
   "execution_count": 61,
   "metadata": {
    "collapsed": true
   },
   "outputs": [],
   "source": [
    "def compute_kl(ref, comp, x):\n",
    "    logp = ref.logpdf(x)\n",
    "    p = np.exp(logp)\n",
    "    logq = comp.logpdf(x)\n",
    "    return - np.sum(p * (logq - logp))"
   ]
  },
  {
   "cell_type": "code",
   "execution_count": 62,
   "metadata": {
    "collapsed": true
   },
   "outputs": [],
   "source": [
    "def compute_emergent_divergence(trajs, labels, bounds, expert, nbins=100):\n",
    "    # collect values\n",
    "    emergent = dict()\n",
    "    for (timeperiod, l) in zip(trajs, labels):\n",
    "        emergent[l] = dict()\n",
    "        emergent[l]['lon_accel'] = np.concatenate([traj['actions'][:,0] for traj in timeperiod])\n",
    "        emergent[l]['lat_accel'] = np.concatenate([traj['actions'][:,1] for traj in timeperiod])\n",
    "        emergent[l]['velocity'] = np.concatenate([traj['observations'][:,2] for traj in timeperiod])\n",
    "        emergent[l]['jerk'] = np.concatenate([traj['observations'][:,9] for traj in timeperiod])\n",
    "        emergent[l]['ttc'] = np.concatenate([traj['observations'][:,16] for traj in timeperiod])\n",
    "        \n",
    "    # compute divergences\n",
    "    divergences = dict()\n",
    "    for l, l_values in emergent.items():\n",
    "        \n",
    "        if l not in expert.keys():\n",
    "            continue\n",
    "            \n",
    "        divergences[l] = dict()\n",
    "        for k, values in l_values.items():\n",
    "            comp = gaussian_kde(values)\n",
    "            low = min(bounds[l][k][0], np.min(values))\n",
    "            high = max(bounds[l][k][1], np.max(values))\n",
    "            x = np.linspace(low, high, nbins)\n",
    "            divergences[l][k] = compute_kl(expert[l][k], comp, x)\n",
    "            \n",
    "    return divergences"
   ]
  },
  {
   "cell_type": "code",
   "execution_count": 85,
   "metadata": {
    "collapsed": true
   },
   "outputs": [],
   "source": [
    "model_divs = []\n",
    "for trajs in model_trajs:\n",
    "    divs = compute_emergent_divergence(trajs, ngsim_labels, expert_bounds, expert_values)\n",
    "    model_divs.append(divs)"
   ]
  },
  {
   "cell_type": "code",
   "execution_count": 86,
   "metadata": {},
   "outputs": [
    {
     "data": {
      "image/png": "[encoded data removed]",
      "text/plain": [
       "<matplotlib.figure.Figure at 0x15969b438>"
      ]
     },
     "metadata": {},
     "output_type": "display_data"
    }
   ],
   "source": [
    "plt.figure(figsize=(20,4))\n",
    "attr_width = .2\n",
    "for i, divs in enumerate(model_divs):\n",
    "    \n",
    "    for (timeperiod, timeperiod_divs) in divs.items():\n",
    "        attr_keys = sorted(timeperiod_divs.keys())\n",
    "        \n",
    "        for j, attr in enumerate(attr_keys):\n",
    "            plt.subplot(1,5,j+1)\n",
    "            plt.title(attr)\n",
    "            div = timeperiod_divs[attr]\n",
    "            plt.bar(i*attr_width, div, width=model_width, label=model_labels[i])\n",
    "            if i == len(model_divs) - 1:\n",
    "                plt.legend()\n",
    "\n",
    "plt.tight_layout()"
   ]
  },
  {
   "cell_type": "code",
   "execution_count": 87,
   "metadata": {},
   "outputs": [
    {
     "data": {
      "text/plain": [
       "<Container object of 100 artists>"
      ]
     },
     "execution_count": 87,
     "metadata": {},
     "output_type": "execute_result"
    },
    {
     "data": {
      "image/png": "[encoded data removed]",
      "text/plain": [
       "<matplotlib.figure.Figure at 0x1cc481518>"
      ]
     },
     "metadata": {},
     "output_type": "display_data"
    }
   ],
   "source": [
    "low = expert_bounds['0750am-0805am']['ttc'][0]\n",
    "high = expert_bounds['0750am-0805am']['ttc'][1]\n",
    "x = np.linspace(low, high, 100)\n",
    "ref = expert_values['0750am-0805am']['ttc']\n",
    "plt.subplot(1,2,1)\n",
    "plt.bar(x, ref.pdf(x))\n",
    "plt.subplot(1,2,2)\n",
    "vals = np.concatenate([traj['observations'][:,16] for traj in model_trajs[2][0]])\n",
    "comp = gaussian_kde(vals)\n",
    "plt.bar(x, comp.pdf(x))\n"
   ]
  }
 ],
 "metadata": {
  "kernelspec": {
   "display_name": "Python 3",
   "language": "python",
   "name": "python3"
  },
  "language_info": {
   "codemirror_mode": {
    "name": "ipython",
    "version": 3
   },
   "file_extension": ".py",
   "mimetype": "text/x-python",
   "name": "python",
   "nbconvert_exporter": "python",
   "pygments_lexer": "ipython3",
   "version": "3.5.2"
  },
  "widgets": {
   "state": {},
   "version": "1.1.2"
  }
 },
 "nbformat": 4,
 "nbformat_minor": 2
}
