{
 "cells": [
  {
   "cell_type": "markdown",
   "metadata": {
    "collapsed": true
   },
   "source": [
    "#### plan\n",
    "1. load trajs\n",
    "2. load params for trajs\n",
    "3. unnormalize trajs observations, but not actions\n",
    "4. compute kl etc"
   ]
  },
  {
   "cell_type": "code",
   "execution_count": 1,
   "metadata": {
    "collapsed": true
   },
   "outputs": [],
   "source": [
    "%matplotlib inline\n",
    "\n",
    "import collections\n",
    "import matplotlib.pyplot as plt\n",
    "import numpy as np \n",
    "import os\n",
    "from scipy.stats import gaussian_kde\n",
    "\n",
    "import hgail.misc.utils\n",
    "\n",
    "import utils"
   ]
  },
  {
   "cell_type": "code",
   "execution_count": 2,
   "metadata": {
    "collapsed": true
   },
   "outputs": [],
   "source": [
    "def unnormalize(x, mean, std):\n",
    "    return (x * std) + mean"
   ]
  },
  {
   "cell_type": "code",
   "execution_count": 3,
   "metadata": {
    "collapsed": true
   },
   "outputs": [],
   "source": [
    "expert_filepath = '../../data/trajectories/ngsim_1.h5'\n",
    "expert = utils.load_data(\n",
    "    expert_filepath, \n",
    "    min_length=250, \n",
    "    normalize_data=False, \n",
    "    clip_std_multiple=10.\n",
    ")\n",
    "# normalize actions b/c policies are trained to emulate the normalized values\n",
    "expert_actions = utils.load_data(\n",
    "    expert_filepath, \n",
    "    min_length=250, \n",
    "    normalize_data=True,\n",
    "    clip_std_multiple=10.,\n",
    "    act_low=[-4., -.15],\n",
    "    act_high=[4., .15]\n",
    "    \n",
    ")\n",
    "expert['actions'] = expert_actions['actions']"
   ]
  },
  {
   "cell_type": "code",
   "execution_count": 16,
   "metadata": {
    "collapsed": true
   },
   "outputs": [],
   "source": [
    "valdirs = [\n",
    "    '../../data/experiments/1_gail/imitate/validation/',\n",
    "    '../../data/experiments/1_infogail/imitate/validation/',\n",
    "    '../../data/experiments/1_hgail/imitate/validation/',\n",
    "    '../../data/experiments/1_recurrent_gail/imitate/validation/'\n",
    "]\n",
    "params_filepaths = [\n",
    "    '../../data/experiments/1_gail/imitate/log/itr_3000.npz',\n",
    "    '../../data/experiments/1_infogail/imitate/log/itr_1000.npz',\n",
    "    '../../data/experiments/1_hgail/imitate/log/itr_1000.npz',\n",
    "    '../../data/experiments/1_recurrent_gail/imitate/log/itr_2000.npz'\n",
    "]\n",
    "model_labels = [\n",
    "    'gail',\n",
    "    'infogail',\n",
    "    'hgail',\n",
    "    'recurrent gail'\n",
    "]\n",
    "model_trajs = []\n",
    "ngsim_labels = None\n",
    "n_models = len(model_labels)\n",
    "for i in range(n_models):\n",
    "    trajs, ngsim_labels = utils.load_trajs_labels(valdirs[i])\n",
    "    params = hgail.misc.utils.load_params(params_filepaths[i])\n",
    "    for timeperiod in trajs:\n",
    "        for traj in timeperiod:\n",
    "            traj['observations'] = unnormalize(\n",
    "                traj['observations'], \n",
    "                params['normalzing']['obs_mean'],\n",
    "                np.sqrt(params['normalzing']['obs_var']),\n",
    "            )\n",
    "    model_trajs.append(trajs)"
   ]
  },
  {
   "cell_type": "code",
   "execution_count": 17,
   "metadata": {
    "collapsed": true
   },
   "outputs": [],
   "source": [
    "expert_values = dict()\n",
    "expert_values['0750am-0805am'] = dict()\n",
    "expert_bounds = dict()\n",
    "expert_bounds['0750am-0805am'] = dict()\n",
    "expert_values['0750am-0805am']['lon_accel'] = gaussian_kde(expert['actions'][:,0])\n",
    "expert_bounds['0750am-0805am']['lon_accel'] = (np.min(expert['actions'][:,0]), np.max(expert['actions'][:,0]))\n",
    "expert_values['0750am-0805am']['lat_accel'] = gaussian_kde(expert['actions'][:,1])\n",
    "expert_bounds['0750am-0805am']['lat_accel'] = (np.min(expert['actions'][:,1]), np.max(expert['actions'][:,1]))\n",
    "expert_values['0750am-0805am']['velocity'] = gaussian_kde(expert['observations'][:,2])\n",
    "expert_bounds['0750am-0805am']['velocity'] = (np.min(expert['observations'][:,2]), np.max(expert['observations'][:,2]))\n",
    "expert_values['0750am-0805am']['jerk'] = gaussian_kde(expert['observations'][:,9])\n",
    "expert_bounds['0750am-0805am']['jerk'] = (np.min(expert['observations'][:,9]), np.max(expert['observations'][:,9]))\n",
    "expert_values['0750am-0805am']['ttc'] = gaussian_kde(expert['observations'][:,16])\n",
    "expert_bounds['0750am-0805am']['ttc'] = (np.min(expert['observations'][:,16]), np.max(expert['observations'][:,16]))"
   ]
  },
  {
   "cell_type": "code",
   "execution_count": 18,
   "metadata": {
    "collapsed": true
   },
   "outputs": [],
   "source": [
    "def compute_kl(ref, comp, x):\n",
    "    logp = ref.logpdf(x)\n",
    "    p = np.exp(logp)\n",
    "    logq = comp.logpdf(x)\n",
    "    return - np.sum(p * (logq - logp))"
   ]
  },
  {
   "cell_type": "code",
   "execution_count": 38,
   "metadata": {
    "collapsed": true
   },
   "outputs": [],
   "source": [
    "def compute_emergent_divergence(trajs, labels, bounds, expert, nbins=50):\n",
    "    # collect values\n",
    "    emergent = dict()\n",
    "    for (timeperiod, l) in zip(trajs, labels):\n",
    "        emergent[l] = dict()\n",
    "        emergent[l]['lon_accel'] = np.concatenate([traj['actions'][:,0] for traj in timeperiod])\n",
    "        emergent[l]['lat_accel'] = np.concatenate([traj['actions'][:,1] for traj in timeperiod])\n",
    "        emergent[l]['velocity'] = np.concatenate([traj['observations'][:,2] for traj in timeperiod])\n",
    "        emergent[l]['jerk'] = np.concatenate([traj['observations'][:,9] for traj in timeperiod])\n",
    "        emergent[l]['ttc'] = np.concatenate([traj['observations'][:,16] for traj in timeperiod])\n",
    "        \n",
    "    # compute divergences\n",
    "    divergences = dict()\n",
    "    for l, l_values in emergent.items():\n",
    "        \n",
    "        if l not in expert.keys():\n",
    "            continue\n",
    "            \n",
    "        divergences[l] = dict()\n",
    "        for k, values in l_values.items():\n",
    "            x = np.linspace(bounds[l][k][0], bounds[l][k][1], nbins)\n",
    "            divergences[l][k] = compute_kl(expert[l][k], gaussian_kde(values), x)\n",
    "            \n",
    "    return divergences"
   ]
  },
  {
   "cell_type": "code",
   "execution_count": 39,
   "metadata": {},
   "outputs": [
    {
     "name": "stdout",
     "output_type": "stream",
     "text": [
      "computing divergence for model gail\n",
      "computing divergence for model infogail\n",
      "computing divergence for model hgail\n",
      "computing divergence for model recurrent gail\n"
     ]
    }
   ],
   "source": [
    "model_divs = []\n",
    "for i, trajs in enumerate(model_trajs):\n",
    "    print('computing divergence for model {}'.format(model_labels[i]))\n",
    "    divs = compute_emergent_divergence(trajs, ngsim_labels, expert_bounds, expert_values)\n",
    "    model_divs.append(divs)"
   ]
  },
  {
   "cell_type": "code",
   "execution_count": 40,
   "metadata": {},
   "outputs": [
    {
     "data": {
      "image/png": "[encoded data removed]",
      "text/plain": [
       "<matplotlib.figure.Figure at 0x13c725a58>"
      ]
     },
     "metadata": {},
     "output_type": "display_data"
    }
   ],
   "source": [
    "plt.figure(figsize=(20,4))\n",
    "attr_width = .2\n",
    "for i, divs in enumerate(model_divs):\n",
    "    \n",
    "    for (timeperiod, timeperiod_divs) in divs.items():\n",
    "        attr_keys = sorted(timeperiod_divs.keys())\n",
    "        \n",
    "        for j, attr in enumerate(attr_keys):\n",
    "            plt.subplot(1,5,j+1)\n",
    "            plt.title(attr)\n",
    "            div = timeperiod_divs[attr]\n",
    "            plt.bar(i*attr_width, div, width=.15, label=model_labels[i])\n",
    "            if i == len(model_divs) - 1:\n",
    "                plt.legend()\n",
    "\n",
    "plt.tight_layout()"
   ]
  },
  {
   "cell_type": "code",
   "execution_count": 41,
   "metadata": {},
   "outputs": [
    {
     "data": {
      "text/plain": [
       "<Container object of 50 artists>"
      ]
     },
     "execution_count": 41,
     "metadata": {},
     "output_type": "execute_result"
    },
    {
     "data": {
      "image/png": "[encoded data removed]",
      "text/plain": [
       "<matplotlib.figure.Figure at 0x1cc05c978>"
      ]
     },
     "metadata": {},
     "output_type": "display_data"
    }
   ],
   "source": [
    "# feat_key = 'observations'\n",
    "# feat_idx = 2\n",
    "# feat_name = 'velocity'\n",
    "feat_key = 'actions'\n",
    "feat_idx = 0\n",
    "feat_name = 'lon_accel'\n",
    "low = expert_bounds['0750am-0805am'][feat_name][0]\n",
    "high = expert_bounds['0750am-0805am'][feat_name][1]\n",
    "x = np.linspace(low, high, 50)\n",
    "ref = expert_values['0750am-0805am'][feat_name]\n",
    "plt.subplot(1,2,1)\n",
    "plt.bar(x, ref.pdf(x))\n",
    "plt.subplot(1,2,2)\n",
    "vals = np.concatenate([traj[feat_key][:,feat_idx] for traj in model_trajs[2][0]])\n",
    "comp = gaussian_kde(vals)\n",
    "plt.bar(x, comp.pdf(x))\n"
   ]
  },
  {
   "cell_type": "code",
   "execution_count": 23,
   "metadata": {},
   "outputs": [
    {
     "name": "stdout",
     "output_type": "stream",
     "text": [
      "{'0750am-0805am': {'velocity': (3.8103724410853456e-06, 29.570213614914064), 'lon_accel': (-1.0, 1.0), 'ttc': (0.00058768060429761882, 30.0), 'jerk': (-111.2891908640254, 328.24688515367723), 'lat_accel': (-1.0, 1.0)}}\n"
     ]
    }
   ],
   "source": [
    "print(expert_bounds)"
   ]
  },
  {
   "cell_type": "code",
   "execution_count": null,
   "metadata": {
    "collapsed": true
   },
   "outputs": [],
   "source": []
  }
 ],
 "metadata": {
  "kernelspec": {
   "display_name": "Python 3",
   "language": "python",
   "name": "python3"
  },
  "language_info": {
   "codemirror_mode": {
    "name": "ipython",
    "version": 3
   },
   "file_extension": ".py",
   "mimetype": "text/x-python",
   "name": "python",
   "nbconvert_exporter": "python",
   "pygments_lexer": "ipython3",
   "version": "3.5.2"
  },
  "widgets": {
   "state": {},
   "version": "1.1.2"
  }
 },
 "nbformat": 4,
 "nbformat_minor": 2
}
